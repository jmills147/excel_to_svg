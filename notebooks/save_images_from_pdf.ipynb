{
 "cells": [
  {
   "cell_type": "code",
   "execution_count": null,
   "metadata": {},
   "outputs": [],
   "source": []
  },
  {
   "cell_type": "code",
   "execution_count": null,
   "metadata": {},
   "outputs": [],
   "source": []
  },
  {
   "cell_type": "code",
   "execution_count": null,
   "metadata": {},
   "outputs": [],
   "source": []
  },
  {
   "cell_type": "markdown",
   "metadata": {},
   "source": [
    "https://www.geeksforgeeks.org/how-to-extract-images-from-pdf-in-python/"
   ]
  },
  {
   "cell_type": "code",
   "execution_count": null,
   "metadata": {},
   "outputs": [],
   "source": [
    "!pip install fitz"
   ]
  },
  {
   "cell_type": "code",
   "execution_count": 4,
   "metadata": {},
   "outputs": [
    {
     "name": "stdout",
     "output_type": "stream",
     "text": [
      "Defaulting to user installation because normal site-packages is not writeable\n",
      "Collecting frontend\n"
     ]
    },
    {
     "name": "stderr",
     "output_type": "stream",
     "text": [
      "  WARNING: The script uvicorn.exe is installed in 'C:\\Users\\johnm\\AppData\\Roaming\\Python\\Python39\\Scripts' which is not on PATH.\n",
      "  Consider adding this directory to PATH or, if you prefer to suppress this warning, use --no-warn-script-location.\n",
      "WARNING: You are using pip version 21.2.3; however, version 22.0.3 is available."
     ]
    },
    {
     "name": "stdout",
     "output_type": "stream",
     "text": [
      "  Downloading frontend-0.0.3-py3-none-any.whl (32 kB)\n",
      "Requirement already satisfied: itsdangerous>=1.1.0 in c:\\program files\\python39\\lib\\site-packages (from frontend) (2.0.1)\n",
      "Collecting uvicorn>=0.7.1\n",
      "  Downloading uvicorn-0.17.4-py3-none-any.whl (52 kB)\n",
      "Collecting aiofiles\n",
      "  Downloading aiofiles-0.8.0-py3-none-any.whl (13 kB)\n",
      "Collecting starlette>=0.12.0\n",
      "  Downloading starlette-0.18.0-py3-none-any.whl (59 kB)\n",
      "Collecting typing-extensions\n",
      "  Downloading typing_extensions-4.1.1-py3-none-any.whl (26 kB)\n",
      "Collecting anyio<4,>=3.0.0\n",
      "  Downloading anyio-3.5.0-py3-none-any.whl (79 kB)\n",
      "Requirement already satisfied: sniffio>=1.1 in c:\\users\\johnm\\appdata\\roaming\\python\\python39\\site-packages (from anyio<4,>=3.0.0->starlette>=0.12.0->frontend) (1.2.0)\n",
      "Requirement already satisfied: idna>=2.8 in c:\\users\\johnm\\appdata\\roaming\\python\\python39\\site-packages (from anyio<4,>=3.0.0->starlette>=0.12.0->frontend) (2.10)\n",
      "Requirement already satisfied: click>=7.0 in c:\\program files\\python39\\lib\\site-packages (from uvicorn>=0.7.1->frontend) (8.0.1)\n",
      "Collecting h11>=0.8\n",
      "  Downloading h11-0.13.0-py3-none-any.whl (58 kB)\n",
      "Collecting asgiref>=3.4.0\n",
      "  Using cached asgiref-3.5.0-py3-none-any.whl (22 kB)\n",
      "Requirement already satisfied: colorama in c:\\users\\johnm\\appdata\\roaming\\python\\python39\\site-packages (from click>=7.0->uvicorn>=0.7.1->frontend) (0.4.4)\n",
      "Installing collected packages: typing-extensions, h11, asgiref, anyio, uvicorn, starlette, aiofiles, frontend\n",
      "  Attempting uninstall: asgiref\n",
      "    Found existing installation: asgiref 3.3.1\n",
      "    Uninstalling asgiref-3.3.1:\n",
      "      Successfully uninstalled asgiref-3.3.1\n",
      "  Attempting uninstall: anyio\n",
      "    Found existing installation: anyio 2.2.0\n",
      "    Uninstalling anyio-2.2.0:\n",
      "      Successfully uninstalled anyio-2.2.0\n",
      "Successfully installed aiofiles-0.8.0 anyio-3.5.0 asgiref-3.5.0 frontend-0.0.3 h11-0.13.0 starlette-0.18.0 typing-extensions-4.1.1 uvicorn-0.17.4\n"
     ]
    },
    {
     "name": "stderr",
     "output_type": "stream",
     "text": [
      "\n",
      "You should consider upgrading via the 'C:\\Program Files\\Python39\\python.exe -m pip install --upgrade pip' command.\n"
     ]
    }
   ],
   "source": [
    "!pip install frontend"
   ]
  },
  {
   "cell_type": "code",
   "execution_count": 7,
   "metadata": {},
   "outputs": [
    {
     "name": "stdout",
     "output_type": "stream",
     "text": [
      "Defaulting to user installation because normal site-packages is not writeable"
     ]
    },
    {
     "name": "stderr",
     "output_type": "stream",
     "text": [
      "WARNING: You are using pip version 21.2.3; however, version 22.0.3 is available.\n",
      "You should consider upgrading via the 'C:\\Program Files\\Python39\\python.exe -m pip install --upgrade pip' command.\n"
     ]
    },
    {
     "name": "stdout",
     "output_type": "stream",
     "text": [
      "\n",
      "Collecting PyMuPDF\n",
      "  Downloading PyMuPDF-1.19.5-cp39-cp39-win_amd64.whl (6.4 MB)\n",
      "Installing collected packages: PyMuPDF\n",
      "Successfully installed PyMuPDF-1.19.5\n"
     ]
    }
   ],
   "source": [
    "!pip install PyMuPDF"
   ]
  },
  {
   "cell_type": "code",
   "execution_count": 26,
   "metadata": {},
   "outputs": [],
   "source": [
    "import fitz\n",
    "import io"
   ]
  },
  {
   "cell_type": "code",
   "execution_count": 67,
   "metadata": {},
   "outputs": [],
   "source": [
    "# file = \"Book2.pdf\"\n",
    "# file = \"Book1.pdf\"\n",
    "file = \"abc.pdf\"\n",
    "\n",
    "# file = \"Atlantic_2022.02.02.pdf\""
   ]
  },
  {
   "cell_type": "markdown",
   "metadata": {},
   "source": []
  },
  {
   "cell_type": "code",
   "execution_count": 69,
   "metadata": {},
   "outputs": [],
   "source": [
    "file = r'c:\\temp\\abc.pdf'"
   ]
  },
  {
   "cell_type": "code",
   "execution_count": 70,
   "metadata": {},
   "outputs": [],
   "source": [
    "pdf_file = fitz.open(file)"
   ]
  },
  {
   "cell_type": "code",
   "execution_count": 17,
   "metadata": {},
   "outputs": [
    {
     "name": "stdout",
     "output_type": "stream",
     "text": [
      "[!] No images found on page 0\n"
     ]
    }
   ],
   "source": [
    "for page_index in range(len(pdf_file)):\n",
    "    \n",
    "    # get the page itself\n",
    "    page = pdf_file[page_index]\n",
    "    image_list = page.get_images()\n",
    "      \n",
    "    # printing number of images found in this page\n",
    "    if image_list:\n",
    "        print(f\"[+] Found a total of {len(image_list)} images in page {page_index}\")\n",
    "    else:\n",
    "        print(\"[!] No images found on page\", page_index)\n",
    "    for image_index, img in enumerate(page.get_images(), start=1):\n",
    "        \n",
    "        # get the XREF of the image\n",
    "        xref = img[0]\n",
    "          \n",
    "        # extract the image bytes\n",
    "        base_image = pdf_file.extractImage(xref)\n",
    "        image_bytes = base_image[\"image\"]\n",
    "          \n",
    "        # get the image extension\n",
    "        image_ext = base_image[\"ext\"]"
   ]
  },
  {
   "cell_type": "code",
   "execution_count": 71,
   "metadata": {},
   "outputs": [
    {
     "data": {
      "text/plain": [
       "1"
      ]
     },
     "execution_count": 71,
     "metadata": {},
     "output_type": "execute_result"
    }
   ],
   "source": [
    "len(pdf_file)"
   ]
  },
  {
   "cell_type": "code",
   "execution_count": 72,
   "metadata": {},
   "outputs": [],
   "source": [
    "page = pdf_file[0]"
   ]
  },
  {
   "cell_type": "code",
   "execution_count": 83,
   "metadata": {},
   "outputs": [],
   "source": [
    "with open('abc.svg', 'wt') as f:\n",
    "    f.write(page.get_svg_image())"
   ]
  },
  {
   "cell_type": "code",
   "execution_count": 84,
   "metadata": {},
   "outputs": [],
   "source": [
    "from pathlib import Path"
   ]
  },
  {
   "cell_type": "code",
   "execution_count": 86,
   "metadata": {},
   "outputs": [],
   "source": [
    "svg_path = Path(r\"abc.svg\")\n"
   ]
  },
  {
   "cell_type": "code",
   "execution_count": 87,
   "metadata": {},
   "outputs": [
    {
     "data": {
      "text/plain": [
       "True"
      ]
     },
     "execution_count": 87,
     "metadata": {},
     "output_type": "execute_result"
    }
   ],
   "source": [
    "svg_path.is_file()"
   ]
  },
  {
   "cell_type": "code",
   "execution_count": 88,
   "metadata": {},
   "outputs": [],
   "source": [
    "import re"
   ]
  },
  {
   "cell_type": "code",
   "execution_count": 89,
   "metadata": {},
   "outputs": [],
   "source": [
    "with open(svg_path, 'rt', encoding='utf-8') as f:\n",
    "    sz = f.read()"
   ]
  },
  {
   "cell_type": "code",
   "execution_count": 216,
   "metadata": {},
   "outputs": [
    {
     "name": "stdout",
     "output_type": "stream",
     "text": [
      "50.4 791.526 83.04 512.27999\n"
     ]
    }
   ],
   "source": [
    "# with open('abc.txt', 'wt') as fw:\n",
    "        \n",
    "x_max = 0\n",
    "x_min = 99999\n",
    "y_max = 0\n",
    "y_min = 99999\n",
    "\n",
    "for mtch in re.finditer('\\n<path transform.*? d=\"(.*?)\"', sz):\n",
    "        \n",
    "    s = mtch.group(1)\n",
    "    # print(s)\n",
    "    for mtch2 in re.finditer('[L|M] (\\S+) (\\S+)', s):\n",
    "        try:\n",
    "            x = float(mtch2.group(1))\n",
    "            y = float(mtch2.group(2))\n",
    "        except ValueError:\n",
    "            print(s, mtch2.group(1), mtch2.group(2))\n",
    "            raise Exception\n",
    "            \n",
    "        if x < x_min:\n",
    "            x_min = x\n",
    "        if x > x_max:\n",
    "            x_max = x\n",
    "        if y < y_min:\n",
    "            y_min = y\n",
    "        if y > y_max:\n",
    "            y_max = y\n",
    "\n",
    "print(x_min, x_max, y_min, y_max)\n",
    "    # print(float(x_max)-float(x_min), float(y_max)-float(y_min))"
   ]
  },
  {
   "cell_type": "code",
   "execution_count": 107,
   "metadata": {},
   "outputs": [
    {
     "data": {
      "text/plain": [
       "<re.Match object; span=(414, 441), match='\"matrix(1,0,0,-1,0,595.32)\"'>"
      ]
     },
     "execution_count": 107,
     "metadata": {},
     "output_type": "execute_result"
    }
   ],
   "source": [
    "re.search(r'\"matrix\\(.*,(.*)\\)\"', sz)"
   ]
  },
  {
   "cell_type": "code",
   "execution_count": 91,
   "metadata": {},
   "outputs": [
    {
     "name": "stdout",
     "output_type": "stream",
     "text": [
      "595.32\n"
     ]
    }
   ],
   "source": [
    "mtch = re.search(r'\"matrix\\(.*,(.*)\\)\"', sz).group(1)\n",
    "    y_edge = float(m.group(1))\n",
    "    break\n",
    "print(y_edge)"
   ]
  },
  {
   "cell_type": "code",
   "execution_count": 92,
   "metadata": {},
   "outputs": [
    {
     "data": {
      "text/plain": [
       "512.27999"
      ]
     },
     "execution_count": 92,
     "metadata": {},
     "output_type": "execute_result"
    }
   ],
   "source": [
    "y_max"
   ]
  },
  {
   "cell_type": "code",
   "execution_count": 93,
   "metadata": {},
   "outputs": [
    {
     "name": "stdout",
     "output_type": "stream",
     "text": [
      "50.40 83.04 741.13 429.24\n"
     ]
    }
   ],
   "source": [
    "viewBox= f'{x_min:.2f} {y_edge-y_max:.2f} {x_max-x_min:.2f} {y_max-y_min:.2f}'\n",
    "print(viewBox)"
   ]
  },
  {
   "cell_type": "code",
   "execution_count": 94,
   "metadata": {},
   "outputs": [],
   "source": [
    "sz2 = re.sub(r'viewBox=\".*?\"', f'viewBox=\"{viewBox}\"', sz  )"
   ]
  },
  {
   "cell_type": "code",
   "execution_count": 95,
   "metadata": {},
   "outputs": [],
   "source": [
    "sz2 = re.sub(r' width=\".*?\" height=\".*?\"', '', sz2)"
   ]
  },
  {
   "cell_type": "code",
   "execution_count": 96,
   "metadata": {},
   "outputs": [],
   "source": [
    "with open('abcdef.svg','wt', encoding='utf-8') as f:\n",
    "    f.write(sz2)"
   ]
  },
  {
   "cell_type": "code",
   "execution_count": 45,
   "metadata": {},
   "outputs": [
    {
     "data": {
      "text/plain": [
       "787.07998"
      ]
     },
     "execution_count": 45,
     "metadata": {},
     "output_type": "execute_result"
    }
   ],
   "source": [
    "y_max"
   ]
  },
  {
   "cell_type": "code",
   "execution_count": 98,
   "metadata": {},
   "outputs": [],
   "source": [
    "pdf_path = Path(r'c:\\temp\\abc.pdf')"
   ]
  },
  {
   "cell_type": "code",
   "execution_count": 102,
   "metadata": {},
   "outputs": [],
   "source": [
    "svg_path = pdf_path.with_suffix('.svg')"
   ]
  },
  {
   "cell_type": "code",
   "execution_count": 103,
   "metadata": {},
   "outputs": [
    {
     "data": {
      "text/plain": [
       "WindowsPath('c:/temp/abc.svg')"
      ]
     },
     "execution_count": 103,
     "metadata": {},
     "output_type": "execute_result"
    }
   ],
   "source": [
    "svg_path"
   ]
  },
  {
   "cell_type": "code",
   "execution_count": 222,
   "metadata": {},
   "outputs": [],
   "source": [
    "def reduce_svg_viewbox(svg: str) -> str:\n",
    "    \n",
    "    '''Removes the padding around an svg that has been extracted from a pdf exporteded from Excel\n",
    "\n",
    "    '''\n",
    "    Returns:    the svg string with the padding removed\n",
    "\n",
    "    x_max = 0\n",
    "    x_min = 99999\n",
    "    y_max = 0\n",
    "    y_min = 99999\n",
    "\n",
    "    for mtch in re.finditer('\\n<path transform.*? d=\"(.*?)\"', svg):\n",
    "            \n",
    "        s = mtch.group(1)\n",
    "        # print(s)\n",
    "        # for i, mtch2 in enumerate(re.finditer('[A-Z] (\\S+) (\\S+)', s)):\n",
    "        # print(s)\n",
    "        for i, mtch2 in enumerate(re.finditer('[L|M] (\\S+) (\\S+)', s)):    \n",
    "            try:\n",
    "                x = float(mtch2.group(1))\n",
    "                y = float(mtch2.group(2))\n",
    "            except ValueError:\n",
    "                print(s, mtch2.group(1), mtch2.group(2))\n",
    "                raise Exception\n",
    "            if x < x_min:\n",
    "                x_min = x\n",
    "            if x > x_max:\n",
    "                x_max = x\n",
    "            if y < y_min:\n",
    "                y_min = y\n",
    "            if y > y_max:\n",
    "                y_max = y\n",
    "        \n",
    "        if i == 5:     \n",
    "            break # break out after the first match - seems to work!!! \n",
    "    \n",
    "    y_edge = re.search(r'\"matrix\\(.*,(.*)\\)\"', svg).group(1) # multiple matches but all the same: take first one\n",
    "    y_edge = float(y_edge)\n",
    "    \n",
    "    print(f'{x_min=}, {x_max=}, {y_min=}, {y_max=}, {y_edge=}')\n",
    "\n",
    "    reduced_viewbox_string= f'{x_min:.2f} {y_edge-y_max:.2f} {x_max-x_min:.2f} {y_max-y_min:.2f}'\n",
    "    print(reduced_viewbox_string)\n",
    "    svg = re.sub(r'viewBox=\".*?\"', f'viewBox=\"{reduced_viewbox_string}\"', svg, count=1) # sub first match at top only\n",
    "\n",
    "    # remove width and height\n",
    "    svg = re.sub(r' width=\".*?\" height=\".*?\"', '', svg, count=1)\n",
    "\n",
    "    return svg"
   ]
  },
  {
   "cell_type": "code",
   "execution_count": 229,
   "metadata": {},
   "outputs": [],
   "source": [
    "def svg_from_excel_pdf(pdf_path: Path) -> int:\n",
    "    \n",
    "    '''Extracts the svg from a single-page pdf, removes the padding around the svg and and saves it to a file\n",
    "    with the same name as the pdf \n",
    "    '''\n",
    "    \n",
    "    svg_path = pdf_path.with_suffix('.svg')\n",
    "    \n",
    "    with fitz.open(pdf_path) as pdf_file:        \n",
    "        svg = pdf_file[0].get_svg_image()\n",
    "    \n",
    "    svg = reduce_svg_viewbox(svg)\n",
    "    \n",
    "    with open(svg_path, 'wt') as svg_file:\n",
    "        svg_file.write(svg)\n",
    "    \n",
    "    return 0"
   ]
  },
  {
   "cell_type": "code",
   "execution_count": 227,
   "metadata": {},
   "outputs": [],
   "source": [
    "pie = Path(r'c:\\temp\\pienew.pdf')"
   ]
  },
  {
   "cell_type": "code",
   "execution_count": null,
   "metadata": {},
   "outputs": [],
   "source": []
  },
  {
   "cell_type": "code",
   "execution_count": 230,
   "metadata": {},
   "outputs": [
    {
     "name": "stdout",
     "output_type": "stream",
     "text": [
      "x_min=50.4, x_max=791.52, y_min=82.8, y_max=512.64, y_edge=595.32\n",
      "50.40 82.68 741.12 429.84\n"
     ]
    },
    {
     "data": {
      "text/plain": [
       "0"
      ]
     },
     "execution_count": 230,
     "metadata": {},
     "output_type": "execute_result"
    }
   ],
   "source": [
    "svg_from_excel_pdf(pie)"
   ]
  },
  {
   "cell_type": "code",
   "execution_count": 184,
   "metadata": {},
   "outputs": [
    {
     "data": {
      "text/plain": [
       "83.53800000000007"
      ]
     },
     "execution_count": 184,
     "metadata": {},
     "output_type": "execute_result"
    }
   ],
   "source": [
    "595.32 - 511.782"
   ]
  },
  {
   "cell_type": "code",
   "execution_count": 143,
   "metadata": {},
   "outputs": [
    {
     "data": {
      "text/plain": [
       "739.6999999999999"
      ]
     },
     "execution_count": 143,
     "metadata": {},
     "output_type": "execute_result"
    }
   ],
   "source": [
    "790.872 - 51.172"
   ]
  },
  {
   "cell_type": "code",
   "execution_count": 144,
   "metadata": {},
   "outputs": [
    {
     "data": {
      "text/plain": [
       "428.24999"
      ]
     },
     "execution_count": 144,
     "metadata": {},
     "output_type": "execute_result"
    }
   ],
   "source": [
    "511.78199 - 83.532"
   ]
  },
  {
   "cell_type": "markdown",
   "metadata": {},
   "source": [
    "This header works fine:\n",
    "```Code\n",
    "<svg xmlns=\"http://www.w3.org/2000/svg\" xmlns:xlink=\"http://www.w3.org/1999/xlink\" version=\"1.1\" viewBox=\"51.17 83.54 739.70 428.25\">"
   ]
  },
  {
   "cell_type": "markdown",
   "metadata": {},
   "source": []
  }
 ],
 "metadata": {
  "interpreter": {
   "hash": "8e0a6765247606d5f21f8ec4031cf0e5c38d9e575e25a46d31d6ffea89667962"
  },
  "kernelspec": {
   "display_name": "Python 3.9.7 ('39_training')",
   "language": "python",
   "name": "python3"
  },
  "language_info": {
   "codemirror_mode": {
    "name": "ipython",
    "version": 3
   },
   "file_extension": ".py",
   "mimetype": "text/x-python",
   "name": "python",
   "nbconvert_exporter": "python",
   "pygments_lexer": "ipython3",
   "version": "3.9.7"
  },
  "orig_nbformat": 4
 },
 "nbformat": 4,
 "nbformat_minor": 2
}
